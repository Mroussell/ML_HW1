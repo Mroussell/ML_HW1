{
 "cells": [
  {
   "cell_type": "markdown",
   "source": [
    "# Homework 1 and 2\n",
    "\n",
    "Michael Roussell\n",
    "\n",
    "GSU CSC 4370\n",
    "\n",
    "Fall 2021\n",
    "\n",
    "---------------------------------------"
   ],
   "metadata": {}
  },
  {
   "cell_type": "markdown",
   "source": [
    "## Question 1\n",
    "\n",
    "Supervised learning in machine learning is the task of having a machine learn given practice input and output. \n",
    "It is usually given by the standard mapping function Y = f(x). \n",
    "Unsupervized learning is machine learning is the task of having a machine learn given only input. \n",
    "In other words there is only a given x in the Y = f(x) function. \n",
    "A common difficulty with unsupervised learning is that labels and context are not given to the algorithm so it is left on its own to find an output structure. \n",
    "\n",
    "Some supervised learning algorithms are linear regression, random forest classification, and neural networking.\n",
    "Some unsupervised learning algorithms are k-mean clustering, q-learning, and temporal difference."
   ],
   "metadata": {}
  },
  {
   "cell_type": "markdown",
   "source": [
    "## Question 2\n",
    "\n",
    "A parametric method is one that has a set of parameters used in the determination of models in machine learning involving probabilities. \n",
    "They have a limit of fit quality base on disturabution.\n",
    "A non-parametric method is one where no set of assumed parameter is used in which the methods do not directly depend on the population being studied. \n",
    "THey keep imporoving as more data is added.\n",
    "\n",
    "Parametric methods assume a normal distrubution, so when there is one and the parameters and population affect the output it can be very useful.\n",
    "However since it assumes normal distrubution, if this is not the case it can also yield unwanted results.\n",
    "Non-parametric methods are usually considered faster when it comes to computational speed.\n",
    "This means that many paramentric methods are slower.\n",
    "Both parametrics and non-parametric methods perform with well spread groups in data.\n",
    "Parametrics methods can be easily affected by outliers, while non-parametric methods are not affected by outliers. "
   ],
   "metadata": {}
  },
  {
   "cell_type": "markdown",
   "source": [
    "## Question 3\n",
    "\n",
    "Standard error is defined by the formula SE = (sigma / squareroot(n)), where signma = the sample standard deviation and n = the number of samples.\n",
    "The stanadard error measures the accuracy of which a sample distrabution represents a population.\n",
    "\n",
    "Co-variance is defined by the sum of the difference of a data point against its means value, multiplied by another data point difference against its mean, and all over the total number of data values.\n",
    "It is mainly used to measure how much two variables vary together. \n",
    "\n",
    "Co-relation is defined as the relation that two variables have together, whether via causation or not. \n",
    "It is used to track how much one data point and another relate or depend on the other. "
   ],
   "metadata": {}
  },
  {
   "cell_type": "markdown",
   "source": [
    "## Question 4\n",
    "\n",
    "The basic idea is to find a best fit line to represent our data. \n",
    "This is represented by the equation Y(pred) = b_0 + b_1 X.\n",
    "The Null Hypothesis then is used to test using prior research and knowledge, the Low P-Value then shows for if the predictor features indicates the target value, and the High P-value then shows for if the non-predictor features are not indicators of the target value."
   ],
   "metadata": {}
  },
  {
   "cell_type": "markdown",
   "source": [
    "## Question 5\n",
    "\n",
    "Y_hat = b_0 + b_1 * X_1 + b_2 * X_2 ... b_n * X_n\n",
    "\n",
    "Where Y_hat is the target/predicted/expected value, X_1 to X_n are the predictor/independent variables, b_0 is te value of Y_hat when all Xs are either zero or do not exist, and b_1 to b_n are regressiong coefficients. "
   ],
   "metadata": {}
  },
  {
   "cell_type": "markdown",
   "source": [
    "## Question 6\n",
    "\n",
    "Principle Component Analysis or PCA is an algorithm used in unsupervised learning. \n",
    "PCA can be used for the cases of visualizing multi dimential data, simplifying decesions, compressing data, de-noising, and reducing the number of dimensions in data.\n",
    "PCA usually works by completing several steps of data manipulation.\n",
    "Firstly, the data must be standardized. \n",
    "Then, a covriance matrix is computed into a square matrix.\n",
    "Next, using eigendecomposition, the eigenvectors are sorted.\n",
    "From here the number of principle components are decided by usually observing the cumulative shared variance. "
   ],
   "metadata": {}
  },
  {
   "cell_type": "markdown",
   "source": [
    "## Question 7\n",
    "\n",
    "Standardization or Normalization are pre-processing steps that can be used in PCA. \n",
    "These methods do not always yield the same result.\n",
    "\n",
    "    MORE TODO"
   ],
   "metadata": {}
  },
  {
   "cell_type": "markdown",
   "source": [
    "## Question 8\n",
    "\n",
    "Clustering in Machine Learning is an unsupervised task that involves recognizing 'natural' groups in data sets.\n",
    "It involves only taking input data and then using the features to identify gorupings.\n",
    "\n",
    "K-Means Clustering Algorithm:\n",
    "\n",
    "    1. Let K be some integer value, k be some integer, and S be a data set of features.\n",
    "\n",
    "    2. Shuffle the data in S and randomly select K data points as a set of centriods, C.\n",
    "\n",
    "    3. For each c in C:\n",
    "\n",
    "        1. Update c by assigning closest k to c.\n",
    "\n",
    "    4. If C contains any changes from the previous interation to the next, repeate step 3.\n",
    "\n",
    "    5. IF C contains no chagnes from the previous interation, End.\n",
    "    \n",
    "\n",
    "Essientually, it partitions a set of observations into a number of clusters k, that results in the data being partitioned."
   ],
   "metadata": {}
  },
  {
   "cell_type": "markdown",
   "source": [
    "## Question 9\n",
    "\n",
    "Generally clustering is considered to be advantageous for a few reasons.\n",
    "Clustering scales for large data, allows results in convergence and easily adapts to new sample data.\n",
    "It is also fairly simple to implement in comparison to other solutions.\n",
    "Some common dissadvantages to clustering are having to manually choose k and thus having to know information about how to choose k ahead of time, introducing outliers, and scaling based on a large amount of features or dimensions."
   ],
   "metadata": {}
  },
  {
   "cell_type": "markdown",
   "source": [
    "## Question 10\n",
    "\n",
    "K-mean is used when there are a specific number of clusters known, and thus k-means requires prior information about.\n",
    "Hierarchical clustering is used when the number of clusters is unknown and the desired outcome to is cluster data in a hierarchy of clusters.\n",
    "An example of a structure that k-means works well on is 2D circle of 3D sphere clusters.\n",
    "Hierarchical clustering does not work as well on this type of clustering.\n",
    "However, hierarchical clustering can be used when looking a graphs such as social networks or trees. \n",
    "Nodes can be compared to eachother to create groups of seperation such that similar nodes are grouped and clustered."
   ],
   "metadata": {}
  },
  {
   "cell_type": "markdown",
   "source": [
    "## Question 11\n",
    "\n",
    "Here we will use pandas, numpy, and sklearn to computer all of the learning algorithms in some python."
   ],
   "metadata": {}
  },
  {
   "cell_type": "markdown",
   "source": [
    "### PCA Calculation and Visualization"
   ],
   "metadata": {}
  },
  {
   "cell_type": "code",
   "execution_count": null,
   "source": [
    "\"\"\"Gather initial data set and exclude none number features\"\"\"\n",
    "import pandas\n",
    "\n",
    "df = pandas.read_csv(r'kmeans_dataset.csv')\n",
    "df.drop(columns=['Country or region'], inplace=True)\n",
    "features = df.columns"
   ],
   "outputs": [],
   "metadata": {}
  },
  {
   "cell_type": "code",
   "execution_count": null,
   "source": [
    "\"\"\"Standardize dataset\"\"\"\n",
    "from sklearn.preprocessing import StandardScaler\n",
    "\n",
    "# Separating out the features\n",
    "x = df.loc[:, features].values\n",
    "# Separating out the target\n",
    "y = df.loc[:,['Score']].values\n",
    "# Standardizing the features\n",
    "x = StandardScaler().fit_transform(x)"
   ],
   "outputs": [],
   "metadata": {}
  },
  {
   "cell_type": "code",
   "execution_count": null,
   "source": [
    "\"\"\"Find principal components\"\"\"\n",
    "from sklearn.decomposition import PCA\n",
    "\n",
    "pca = PCA(n_components=2)\n",
    "principalComponents = pca.fit_transform(x)\n",
    "principalDf = pandas.DataFrame(data=principalComponents, columns=['principal component 1', 'principal component 2'])"
   ],
   "outputs": [],
   "metadata": {}
  },
  {
   "cell_type": "code",
   "execution_count": null,
   "source": [
    "\"\"\"Create final DataFrame and Visualize it\"\"\"\n",
    "import matplotlib.pyplot as plt\n",
    "\n",
    "finalDf = pandas.concat([principalDf, df[['Score']]], axis = 1)\n",
    "fig = plt.figure(figsize = (8,8))\n",
    "ax = fig.add_subplot(1,1,1) \n",
    "ax.set_xlabel('Principal Component 1', fontsize = 15)\n",
    "ax.set_ylabel('Principal Component 2', fontsize = 15)\n",
    "ax.set_title('2 component PCA', fontsize = 20)\n",
    "targets = ['Iris-setosa', 'Iris-versicolor', 'Iris-virginica']\n",
    "colors = ['r', 'g', 'b']\n",
    "for target, color in zip(targets,colors):\n",
    "    indicesToKeep = finalDf['Score'] == target\n",
    "    ax.scatter(finalDf.loc[indicesToKeep, 'principal component 1']\n",
    "               , finalDf.loc[indicesToKeep, 'principal component 2']\n",
    "               , c = color\n",
    "               , s = 50)\n",
    "ax.legend(targets)\n",
    "ax.grid()"
   ],
   "outputs": [],
   "metadata": {}
  },
  {
   "cell_type": "markdown",
   "source": [
    "###"
   ],
   "metadata": {}
  },
  {
   "cell_type": "markdown",
   "source": [
    "## Question 12\n",
    "\n",
    "### a)\n",
    "\n",
    "The equation for linear regression goes as follows:\n",
    "\n",
    "Y = b_0 + b_1 X, where Y is the dependent variable, X is the independent variable, b_0 is the intercept, and b_1 is the slope.\n",
    "\n",
    "b_0 = Y_mean - b_1 X_mean\n",
    "\n",
    "b_1 = (∑(x_i - x_mean)(y_i - y_mean))/(∑(x_i - x_mean)^2)\n",
    "\n",
    "b_1 is defined as the co-variance devided by the measure of center and spread or MSE(Mean Squared Error).\n",
    "\n",
    "### b)\n",
    "\n",
    "The MSE is the defualt loss function.\n",
    "R^2 is \n",
    "\n"
   ],
   "metadata": {}
  },
  {
   "cell_type": "code",
   "execution_count": 2,
   "source": [
    "import matplotlib.pyplot as plt\n",
    "\n",
    "\"\"\"Plot for part (c)\"\"\"\n",
    "x = [6, 3, 6, 9, 3, 9, 6, 3, 9, 6, 3, 9]\n",
    "y = [526, 421, 581, 630, 412, 560, 434, 443, 590, 570, 346, 672] \n",
    "plt.plot(x, y, 'o', color ='red') "
   ],
   "outputs": [
    {
     "output_type": "execute_result",
     "data": {
      "text/plain": [
       "[<matplotlib.lines.Line2D at 0x13ea0adf0>]"
      ]
     },
     "metadata": {},
     "execution_count": 2
    },
    {
     "output_type": "display_data",
     "data": {
      "image/png": "[encoded data removed]",
      "text/plain": [
       "<Figure size 432x288 with 1 Axes>"
      ]
     },
     "metadata": {
      "needs_background": "light"
     }
    }
   ],
   "metadata": {}
  }
 ],
 "metadata": {
  "orig_nbformat": 4,
  "language_info": {
   "name": "python",
   "version": "3.9.7",
   "mimetype": "text/x-python",
   "codemirror_mode": {
    "name": "ipython",
    "version": 3
   },
   "pygments_lexer": "ipython3",
   "nbconvert_exporter": "python",
   "file_extension": ".py"
  },
  "kernelspec": {
   "name": "python3",
   "display_name": "Python 3.9.7 64-bit"
  },
  "interpreter": {
   "hash": "b0fa6594d8f4cbf19f97940f81e996739fb7646882a419484c72d19e05852a7e"
  }
 },
 "nbformat": 4,
 "nbformat_minor": 2
}